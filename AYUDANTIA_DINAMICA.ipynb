{
 "cells": [
  {
   "cell_type": "code",
   "execution_count": 12,
   "id": "4c9e078e",
   "metadata": {},
   "outputs": [],
   "source": [
    "from sympy.matrices import *"
   ]
  },
  {
   "cell_type": "code",
   "execution_count": 13,
   "id": "1a4cfed2",
   "metadata": {},
   "outputs": [
    {
     "data": {
      "text/latex": [
       "$\\displaystyle \\left[\\begin{matrix}200 & 0\\\\0 & 1000\\end{matrix}\\right]$"
      ],
      "text/plain": [
       "Matrix([\n",
       "[200,    0],\n",
       "[  0, 1000]])"
      ]
     },
     "execution_count": 13,
     "metadata": {},
     "output_type": "execute_result"
    }
   ],
   "source": [
    "M=Matrix([[200,0],[0,1000]]);M"
   ]
  },
  {
   "cell_type": "code",
   "execution_count": 14,
   "id": "ee676d10",
   "metadata": {},
   "outputs": [
    {
     "data": {
      "text/latex": [
       "$\\displaystyle \\left[\\begin{matrix}120000 & -100000\\\\-100000 & 100000\\end{matrix}\\right]$"
      ],
      "text/plain": [
       "Matrix([\n",
       "[ 120000, -100000],\n",
       "[-100000,  100000]])"
      ]
     },
     "execution_count": 14,
     "metadata": {},
     "output_type": "execute_result"
    }
   ],
   "source": [
    "K=Matrix([[120000,-100000],[-100000,100000]]);K"
   ]
  },
  {
   "cell_type": "code",
   "execution_count": 15,
   "id": "1d3c48f5",
   "metadata": {},
   "outputs": [
    {
     "data": {
      "text/latex": [
       "$\\displaystyle \\left[\\begin{matrix}200\\\\5000\\end{matrix}\\right]$"
      ],
      "text/plain": [
       "Matrix([\n",
       "[ 200],\n",
       "[5000]])"
      ]
     },
     "execution_count": 15,
     "metadata": {},
     "output_type": "execute_result"
    }
   ],
   "source": [
    "F=M*Matrix([[1],[5]]);F"
   ]
  },
  {
   "cell_type": "code",
   "execution_count": 16,
   "id": "56b4a9ed",
   "metadata": {},
   "outputs": [
    {
     "data": {
      "text/latex": [
       "$\\displaystyle \\left[\\begin{matrix}\\frac{13}{50}\\\\\\frac{31}{100}\\end{matrix}\\right]$"
      ],
      "text/plain": [
       "Matrix([\n",
       "[ 13/50],\n",
       "[31/100]])"
      ]
     },
     "execution_count": 16,
     "metadata": {},
     "output_type": "execute_result"
    }
   ],
   "source": [
    "PHI0=(K**(-1))*F;PHI0"
   ]
  },
  {
   "cell_type": "code",
   "execution_count": 17,
   "id": "efcfa6e4",
   "metadata": {},
   "outputs": [
    {
     "data": {
      "text/latex": [
       "$\\displaystyle \\left[\\begin{matrix}0.024832957719321\\\\0.0296085265114981\\end{matrix}\\right]$"
      ],
      "text/plain": [
       "Matrix([\n",
       "[ 0.024832957719321],\n",
       "[0.0296085265114981]])"
      ]
     },
     "execution_count": 17,
     "metadata": {},
     "output_type": "execute_result"
    }
   ],
   "source": [
    "phi0=PHI0*((PHI0.T*M*PHI0)**(-1))**(0.5);phi0"
   ]
  },
  {
   "cell_type": "code",
   "execution_count": 18,
   "id": "81ee3130",
   "metadata": {},
   "outputs": [
    {
     "data": {
      "text/latex": [
       "$\\displaystyle \\frac{8900}{609}$"
      ],
      "text/plain": [
       "8900/609"
      ]
     },
     "execution_count": 18,
     "metadata": {},
     "output_type": "execute_result"
    }
   ],
   "source": [
    "LAMBDA0=det(PHI0.T*K*PHI0*(PHI0.T*M*PHI0)**(-1));LAMBDA0"
   ]
  },
  {
   "cell_type": "code",
   "execution_count": 19,
   "id": "a0224b3a",
   "metadata": {},
   "outputs": [],
   "source": [
    "LAMBDA1=0\n",
    "DIF=1\n",
    "DIF2=1\n",
    "contador=0"
   ]
  },
  {
   "cell_type": "code",
   "execution_count": 20,
   "id": "4df1e973",
   "metadata": {},
   "outputs": [
    {
     "name": "stdout",
     "output_type": "stream",
     "text": [
      "w1: 3.81966011250135\n",
      "modo 1: Matrix([[0.0252311280995712], [0.0295411244702128]])\n",
      "w2: 26.1803398874036\n",
      "modo 2: Matrix([[0.0660560298159272], [-0.0112836246388945]])\n"
     ]
    }
   ],
   "source": [
    "while contador<2:\n",
    "    while DIF>0.000000001:\n",
    "        PHI1=(K**(-1.0))*M*phi0\n",
    "        phi1=PHI1*((det(PHI1.T*M*PHI1)**-0.5))\n",
    "        LAMBDA1=det((phi1.T*K*phi1)*((phi1.T*M*phi1)**(-1.0)))\n",
    "        DIF=abs((LAMBDA1-LAMBDA0)/LAMBDA0)\n",
    "        phi0=phi1\n",
    "        LAMBDA0=LAMBDA1\n",
    "    print(\"w1: \"+str(LAMBDA1**0.5))\n",
    "    print(\"modo 1: \"+str(phi1))\n",
    "    contador=+1\n",
    "    PHI20_ARBITRARIO=Matrix([[1],[1]])\n",
    "    alpha1=det(phi1.T*M*PHI20_ARBITRARIO)\n",
    "    PHI20=PHI20_ARBITRARIO-alpha1*phi1\n",
    "    phi20=PHI20*((PHI20.T*M*PHI20)**(-1))**(0.5)\n",
    "    LAMBDA20=det(PHI20.T*K*PHI20*(PHI20.T*M*PHI20)**(-1))\n",
    "    LAMBDA21=0\n",
    "    while DIF2>0.000000001:\n",
    "        PHI21=(K**(-1.0))*M*phi20\n",
    "        phi21=PHI21*((det(PHI21.T*M*PHI21)**-0.5))\n",
    "        LAMBDA21=det((phi21.T*K*phi21)*((phi21.T*M*phi21)**(-1.0)))\n",
    "        DIF2=abs((LAMBDA21-LAMBDA20)/LAMBDA20)\n",
    "        phi20=phi21\n",
    "        LAMBDA20=LAMBDA21\n",
    "    contador=+2\n",
    "    print(\"w2: \"+str(LAMBDA21**0.5))\n",
    "    print(\"modo 2: \"+str(phi21))"
   ]
  },
  {
   "cell_type": "code",
   "execution_count": null,
   "id": "5d777deb",
   "metadata": {},
   "outputs": [],
   "source": []
  }
 ],
 "metadata": {
  "kernelspec": {
   "display_name": "Python 3 (ipykernel)",
   "language": "python",
   "name": "python3"
  },
  "language_info": {
   "codemirror_mode": {
    "name": "ipython",
    "version": 3
   },
   "file_extension": ".py",
   "mimetype": "text/x-python",
   "name": "python",
   "nbconvert_exporter": "python",
   "pygments_lexer": "ipython3",
   "version": "3.9.13"
  }
 },
 "nbformat": 4,
 "nbformat_minor": 5
}
